{
  "nbformat": 4,
  "nbformat_minor": 0,
  "metadata": {
    "colab": {
      "provenance": [],
      "authorship_tag": "ABX9TyOpkveSKVIeEB2yyL7MnrCR",
      "include_colab_link": true
    },
    "kernelspec": {
      "name": "python3",
      "display_name": "Python 3"
    },
    "language_info": {
      "name": "python"
    }
  },
  "cells": [
    {
      "cell_type": "markdown",
      "metadata": {
        "id": "view-in-github",
        "colab_type": "text"
      },
      "source": [
        "<a href=\"https://colab.research.google.com/github/sunnychae123/Session2/blob/main/Notebook1.ipynb\" target=\"_parent\"><img src=\"https://colab.research.google.com/assets/colab-badge.svg\" alt=\"Open In Colab\"/></a>"
      ]
    },
    {
      "cell_type": "code",
      "execution_count": 1,
      "metadata": {
        "colab": {
          "base_uri": "https://localhost:8080/"
        },
        "id": "EjRxTjYsW_K7",
        "outputId": "d00d5935-0291-4120-ceaa-271e4617e054"
      },
      "outputs": [
        {
          "output_type": "stream",
          "name": "stdout",
          "text": [
            "Hello World\n"
          ]
        }
      ],
      "source": [
        "print(\"Hello World\")"
      ]
    },
    {
      "cell_type": "markdown",
      "source": [
        "I can write anything I want here"
      ],
      "metadata": {
        "id": "H-U6trKsX5d2"
      }
    },
    {
      "cell_type": "markdown",
      "source": [
        "# **1,500 scientiss lift the lid on reproducibility**\n",
        "\n",
        "\n",
        "## **Survey sheds light on the 'crisis' rocking research**\n",
        "\n",
        "\n",
        "###**by Mona Baker**\n",
        "\n",
        "\n",
        "**More than djifosjdio;fjsdiofjsido;f** jsidf;sjdifo;ajsdifojsaido;fjios;fd"
      ],
      "metadata": {
        "id": "evI9rj2MZMRd"
      }
    },
    {
      "cell_type": "code",
      "source": [],
      "metadata": {
        "id": "lh6cjy6cb3NB"
      },
      "execution_count": null,
      "outputs": []
    }
  ]
}